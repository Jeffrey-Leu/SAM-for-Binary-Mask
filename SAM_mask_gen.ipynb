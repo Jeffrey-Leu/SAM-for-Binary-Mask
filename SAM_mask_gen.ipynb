{
  "cells": [
    {
      "cell_type": "code",
      "execution_count": null,
      "id": "f400486b",
      "metadata": {
        "id": "f400486b"
      },
      "outputs": [],
      "source": [
        "# Copyright (c) Meta Platforms, Inc. and affiliates.\n",
        "\n",
        "# BibTex Citation\n",
        "\n",
        "# @article{kirillov2023segany,\n",
        "#   title={Segment Anything},\n",
        "#   author={Kirillov, Alexander and Mintun, Eric and Ravi, Nikhila and Mao, Hanzi and Rolland, Chloe and Gustafson, Laura and Xiao, Tete and Whitehead, Spencer and Berg, Alexander C. and Lo, Wan-Yen and Doll{\\'a}r, Piotr and Girshick, Ross},\n",
        "#   journal={arXiv:2304.02643},\n",
        "#   year={2023}\n",
        "# }"
      ]
    },
    {
      "cell_type": "markdown",
      "id": "10cea069",
      "metadata": {},
      "source": [
        "# Setup"
      ]
    },
    {
      "cell_type": "markdown",
      "id": "33681dd1",
      "metadata": {
        "id": "33681dd1"
      },
      "source": [
        "Necessary imports and helper functions for displaying points, boxes, and masks."
      ]
    },
    {
      "cell_type": "code",
      "execution_count": null,
      "id": "69b28288",
      "metadata": {
        "id": "69b28288"
      },
      "outputs": [],
      "source": [
        "import numpy as np\n",
        "import torch\n",
        "import matplotlib.pyplot as plt\n",
        "import cv2"
      ]
    },
    {
      "cell_type": "code",
      "execution_count": null,
      "id": "29bc90d5",
      "metadata": {
        "id": "29bc90d5"
      },
      "outputs": [],
      "source": [
        "def show_mask(mask, ax, random_color=False):\n",
        "    if random_color:\n",
        "        color = np.concatenate([np.random.random(3), np.array([0.6])], axis=0)\n",
        "    else:\n",
        "        color = np.array([30/255, 144/255, 255/255, 0.6])\n",
        "    h, w = mask.shape[-2:]\n",
        "    mask_image = mask.reshape(h, w, 1) * color.reshape(1, 1, -1)\n",
        "    ax.imshow(mask_image)\n",
        "\n",
        "def show_points(coords, labels, ax, marker_size=375):\n",
        "    pos_points = coords[labels==1]\n",
        "    neg_points = coords[labels==0]\n",
        "    ax.scatter(pos_points[:, 0], pos_points[:, 1], color='green', marker='*', s=marker_size, edgecolor='white', linewidth=1.25)\n",
        "    ax.scatter(neg_points[:, 0], neg_points[:, 1], color='red', marker='*', s=marker_size, edgecolor='white', linewidth=1.25)\n",
        "\n",
        "def show_box(box, ax):\n",
        "    x0, y0 = box[0], box[1]\n",
        "    w, h = box[2] - box[0], box[3] - box[1]\n",
        "    ax.add_patch(plt.Rectangle((x0, y0), w, h, edgecolor='green', facecolor=(0,0,0,0), lw=2))\n"
      ]
    },
    {
      "cell_type": "markdown",
      "id": "23842fb2",
      "metadata": {
        "id": "23842fb2"
      },
      "source": [
        "## Sequential Renaming of Folder\n",
        "\n",
        "Run following two blocks if you haven't before, renames each image in folder to a number sequentially"
      ]
    },
    {
      "cell_type": "code",
      "execution_count": null,
      "id": "39bfddec",
      "metadata": {},
      "outputs": [],
      "source": [
        "# Path to the directory containing the image sequence\n",
        "directory_path = ''"
      ]
    },
    {
      "cell_type": "code",
      "execution_count": null,
      "id": "325b1353",
      "metadata": {},
      "outputs": [],
      "source": [
        "# import os\n",
        "# os.getcwd()\n",
        "# for i, filename in enumerate(os.listdir(dir)):\n",
        "#     if filename != str(i) + '.tif':\n",
        "#     os.rename(dir + '//' + filename,dir + '//' + str(i) + '.tif')"
      ]
    },
    {
      "cell_type": "markdown",
      "id": "85a4294b",
      "metadata": {},
      "source": [
        "Below are functions that are used to rename files within the folder sequentially, using a 4 digit numbering system (i.e., 0001, 0002, 0003, ...)\n",
        "\n",
        "These functions may not be applicable to your file naming conventions, and need to be modified to your specific needs."
      ]
    },
    {
      "cell_type": "code",
      "execution_count": null,
      "id": "08e504d8",
      "metadata": {},
      "outputs": [],
      "source": [
        "import os\n",
        "\n",
        "# Word to remove from the filenames\n",
        "word_to_remove = \"Camera_15_46_55_\"\n",
        "\n",
        "# List all files in the directory\n",
        "image_files = [f for f in os.listdir(directory_path) if os.path.isfile(os.path.join(directory_path, f))]\n",
        "\n",
        "# Iterate through the image files and rename them\n",
        "for image_file in image_files:\n",
        "    # Split the filename and extension\n",
        "    base_filename, file_extension = os.path.splitext(image_file)\n",
        "    \n",
        "    # Remove the word from the filename\n",
        "    new_base_filename = base_filename.replace(word_to_remove, \"\")\n",
        "    \n",
        "    # Construct the new filename\n",
        "    new_filename = new_base_filename + file_extension\n",
        "    \n",
        "    # Build the full path to the old and new file\n",
        "    old_file_path = os.path.join(directory_path, image_file)\n",
        "    new_file_path = os.path.join(directory_path, new_filename)\n",
        "    \n",
        "    # Rename the file\n",
        "    os.rename(old_file_path, new_file_path)"
      ]
    },
    {
      "cell_type": "code",
      "execution_count": null,
      "id": "cda84768",
      "metadata": {},
      "outputs": [],
      "source": [
        "# Sort the image files by their numerical order\n",
        "image_files.sort(key=lambda x: int(os.path.splitext(x)[0]))\n",
        "\n",
        "# Initialize a counter\n",
        "counter = 0\n",
        "\n",
        "# Iterate through the image files and rename them to a sequential numbered list\n",
        "for image_file in image_files:\n",
        "    # Get the file extension (e.g., .jpg, .png)\n",
        "    file_extension = os.path.splitext(image_file)[-1]\n",
        "    \n",
        "    # Construct the new filename with a numbered list\n",
        "    new_filename = f\"{counter:04d}{file_extension}\"  # Use 4 digits for the number\n",
        "    \n",
        "    # Build the full path to the old and new file\n",
        "    old_file_path = os.path.join(directory_path, image_file)\n",
        "    new_file_path = os.path.join(directory_path, new_filename)\n",
        "    \n",
        "    # Rename the file\n",
        "    os.rename(old_file_path, new_file_path)\n",
        "    \n",
        "    # Increment the counter\n",
        "    counter += 1"
      ]
    },
    {
      "cell_type": "markdown",
      "id": "4b613b91",
      "metadata": {},
      "source": [
        "Turn renamed and numbered image sequence folder into a list"
      ]
    },
    {
      "cell_type": "code",
      "execution_count": null,
      "id": "3c2e4f6b",
      "metadata": {
        "id": "3c2e4f6b"
      },
      "outputs": [],
      "source": [
        "# Sort folder into an ordered list\n",
        "import glob\n",
        "import re\n",
        "import os\n",
        "\n",
        "images=[]\n",
        "count = 0\n",
        "natsort = lambda s: [int(t) if t.isdigit() else t.lower() for t in re.split('(\\d+)', s)]\n",
        "\n",
        "for image in sorted(glob.glob(directory_path + '\\*.tif'),key = natsort):\n",
        "    img = cv2.imread(image)\n",
        "    images.append(img)"
      ]
    },
    {
      "cell_type": "markdown",
      "id": "98b228b8",
      "metadata": {
        "id": "98b228b8"
      },
      "source": [
        "## Set SAM Checkpoint"
      ]
    },
    {
      "cell_type": "markdown",
      "id": "0bb1927b",
      "metadata": {
        "id": "0bb1927b"
      },
      "source": [
        "First, make sure Segment Anything is installed. (pip install git+https://github.com/facebookresearch/segment-anything.git)\n",
        "\n",
        "https://github.com/facebookresearch/segment-anything\n",
        "\n",
        "\n",
        "Load the SAM model and predictor. Change the path below to point to the SAM checkpoint.\n",
        "\n",
        "If not done already, a Model Checkpoint needs to be downloaded. This can be done on Meta's SAM github: https://github.com/facebookresearch/segment-anything#model-checkpoints"
      ]
    },
    {
      "cell_type": "code",
      "execution_count": null,
      "id": "7e28150b",
      "metadata": {
        "id": "7e28150b"
      },
      "outputs": [],
      "source": [
        "import sys\n",
        "sys.path.append('') # Change path here to point to SAM Model Checkpoint\n",
        "from segment_anything import sam_model_registry, SamPredictor\n",
        "\n",
        "sam_checkpoint = \"sam_vit_h_4b8939.pth\"\n",
        "model_type = \"vit_h\"\n",
        "\n",
        "sam = sam_model_registry[model_type](checkpoint=sam_checkpoint)\n",
        "\n",
        "predictor = SamPredictor(sam)"
      ]
    },
    {
      "cell_type": "markdown",
      "id": "c6a4030d",
      "metadata": {},
      "source": [
        "Display of first image in folder. Note the coordinate system for future reference."
      ]
    },
    {
      "cell_type": "code",
      "execution_count": null,
      "id": "bb80904b",
      "metadata": {},
      "outputs": [],
      "source": [
        "plt.imshow(images[0])\n",
        "plt.axis('on')"
      ]
    },
    {
      "cell_type": "markdown",
      "id": "414e45f4",
      "metadata": {},
      "source": [
        "## Segmentation\n",
        "\n",
        "In the block below, choose a point on the image at which you want segmented.\n",
        "\n",
        "For example: \n",
        "\n",
        "    input_point = np.array([[50,100]])\n",
        "    input_label = np.array([1])\n",
        "\n",
        "This would set one point on the image at (50,100) and highlight the predicted segment.\n",
        "\n",
        "Also:\n",
        "\n",
        "    input_point = np.array([[50,100],[100,200]])\n",
        "    input_label = np.array([1,1])\n",
        "\n",
        "This would choose two points and run the same prediction model.\n",
        "\n",
        "\n",
        "\n",
        "For each image, the model will display three different segment predictions. You may choose the best one and save only that number into your output folder. Or, if desired, two or all images can be saved.\n"
      ]
    },
    {
      "cell_type": "code",
      "execution_count": null,
      "id": "674258ee",
      "metadata": {},
      "outputs": [],
      "source": [
        "# Change this number to choose different images within your input folder\n",
        "im_num = 0\n",
        "\n",
        "predictor.set_image(images[im_num])\n",
        "    \n",
        "# Set coordinate and number of points for segmentation\n",
        "input_point = np.array([[200,200]])\n",
        "input_label = np.array([1])\n",
        "\n",
        "masks, scores, logits = predictor.predict(\n",
        "point_coords=input_point,\n",
        "point_labels=input_label,\n",
        "multimask_output=True,\n",
        ")\n",
        "\n",
        "for i, (mask, score) in enumerate(zip(masks, scores)):\n",
        "    plt.figure(figsize=(10,10))\n",
        "    plt.imshow(images[im_num])\n",
        "    show_mask(mask, plt.gca())\n",
        "    plt.axis('off')"
      ]
    },
    {
      "cell_type": "markdown",
      "id": "aa1ee159",
      "metadata": {},
      "source": [
        "Note which number provides the best segmentation results, it can be chosen in the next block. First image is 0, second image is 1, third image is 2.\n",
        "\n",
        "Feel free to run multiple images to confirm your choice."
      ]
    },
    {
      "cell_type": "markdown",
      "id": "23914515",
      "metadata": {},
      "source": [
        "This next block iterates over the entire image sequence. Make sure to choose the correct number to save only the desired mask files.\n",
        "\n",
        "This will run for a long time (about 30-45 seconds per image). "
      ]
    },
    {
      "cell_type": "code",
      "execution_count": null,
      "id": "97e3bd65",
      "metadata": {},
      "outputs": [],
      "source": [
        "# Declare which image you would like to move forward with (0,1, or 2)\n",
        "\n",
        "best_img = 0"
      ]
    },
    {
      "cell_type": "code",
      "execution_count": null,
      "id": "69583bb2",
      "metadata": {},
      "outputs": [],
      "source": [
        "# Output folder Path\n",
        "# Folder should already exist\n",
        "\n",
        "output = ''"
      ]
    },
    {
      "cell_type": "markdown",
      "id": "e73df3ba",
      "metadata": {},
      "source": [
        "Set the input_point and input_label that was used above to yield desired results. \n",
        "\n",
        "These prompts will be used for every image in the image sequence. Make sure that the point(s) being used as your segmentation prompt will provide correct segmentation results throughout the entire image sequence, especially in for applications with large deformations. If necessary, modify the ranges of the for loop and run the code sectionally with different input prompts."
      ]
    },
    {
      "cell_type": "code",
      "execution_count": null,
      "id": "252c6a4f",
      "metadata": {},
      "outputs": [],
      "source": [
        "input_point = np.array([[200,200]])\n",
        "input_label = np.array([1])"
      ]
    },
    {
      "cell_type": "markdown",
      "id": "b9f30d83",
      "metadata": {},
      "source": [
        "Modify the block below to the size and dpi of your images "
      ]
    },
    {
      "cell_type": "code",
      "execution_count": null,
      "id": "106cd9e1",
      "metadata": {},
      "outputs": [],
      "source": [
        "w = 400\n",
        "l = 250\n",
        "dpi = 96"
      ]
    },
    {
      "cell_type": "code",
      "execution_count": null,
      "id": "c3e2fa87",
      "metadata": {},
      "outputs": [],
      "source": [
        "count = 0\n",
        "for image in images[0:]: # This number can be changed to set a range of images that you would like processed; \"count\" should also be changed for file naming purpose\n",
        "    predictor.set_image(image)\n",
        "\n",
        "    masks, scores, logits = predictor.predict(\n",
        "    point_coords=input_point,\n",
        "    point_labels=input_label,\n",
        "    multimask_output=True,\n",
        "    )\n",
        "\n",
        "    for i, (mask, score) in enumerate(zip(masks, scores)):\n",
        "        fig = plt.figure(figsize=(w/dpi,l/dpi))\n",
        "        ax = fig.add_axes([0, 0, 1, 1])\n",
        "        plt.imshow(image)\n",
        "        show_mask(mask, plt.gca())\n",
        "        ax.axis('off')\n",
        "        ax.set(xlim=[-0.5, w - 0.5], ylim=[l - 0.5, -0.5], aspect=1)\n",
        "        if i == best_img: # If saving multiple images, the if statement can be changed to i == 0 or i == 1 (for example), or, for saving all images, the if statement can be removed.\n",
        "            plt.savefig(output + f'\\{count:04d}.tif',dpi=dpi,transparent=True)\n",
        "    \n",
        "    count += 1"
      ]
    },
    {
      "cell_type": "markdown",
      "id": "21280950",
      "metadata": {},
      "source": [
        "After the for loop is done running, you may notice a few bad frames. You can always go back and check the three different possible outputs for each individual image and change the image number (0,1,2) to reflect the best image. The range of the for loop can be changed to run select images again."
      ]
    }
  ],
  "metadata": {
    "accelerator": "GPU",
    "colab": {
      "gpuType": "T4",
      "provenance": []
    },
    "kernelspec": {
      "display_name": "Python 3",
      "name": "python3"
    },
    "language_info": {
      "codemirror_mode": {
        "name": "ipython",
        "version": 3
      },
      "file_extension": ".py",
      "mimetype": "text/x-python",
      "name": "python",
      "nbconvert_exporter": "python",
      "pygments_lexer": "ipython3",
      "version": "3.11.4"
    }
  },
  "nbformat": 4,
  "nbformat_minor": 5
}
